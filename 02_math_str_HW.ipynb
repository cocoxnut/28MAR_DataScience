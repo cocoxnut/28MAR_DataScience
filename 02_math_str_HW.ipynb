{
 "cells": [
  {
   "cell_type": "markdown",
   "metadata": {
    "id": "yVe6RtTeeGg8"
   },
   "source": [
    "#### Пользователь вводит пароль для регистрации. Пароль сохраняется в переменной `Password`. По правилам безопасности сайт требует длину пароля не менее 7 символов. Проверьте удовлетворяет ли введенный пароль правилам?"
   ]
  },
  {
   "cell_type": "code",
   "execution_count": 2,
   "metadata": {
    "id": "miYhEsZTetP6"
   },
   "outputs": [
    {
     "name": "stdout",
     "output_type": "stream",
     "text": [
      "dftin123\n",
      "Access is granted\n"
     ]
    }
   ],
   "source": [
    "password = input()\n",
    "if len(password) < 7:\n",
    "    print('Please enter password containing min 7 symbols')\n",
    "else:\n",
    "    print('Access is granted')\n",
    "\n"
   ]
  },
  {
   "cell_type": "markdown",
   "metadata": {
    "id": "cm7uaD2g2KU7"
   },
   "source": [
    "#### Друзья делят яблоки между собой. Напишите программу, которая вычислит:\n",
    "\n",
    "\n",
    "*   сколько целых яблок достанется каждому другу?\n",
    "*   сколько яблок останется не разделенными?\n",
    "*   по сколько получит каждый из друзей, если они начнут делить яблоки на части?\n",
    "\n",
    "На вход подаются два числа: количество друзей и яблок.\n",
    "\n",
    "На выходе должно быть три строки, каждая должна содержать ответ на поставленный вопрос.\n",
    "\n",
    "`входные данные:`\n",
    "\n",
    "`10` \n",
    "\n",
    "`8`\n",
    "\n",
    "`выходные данные:`\n",
    "\n",
    "`0`\n",
    "\n",
    "`8`\n",
    "\n",
    "`0.8`"
   ]
  },
  {
   "cell_type": "code",
   "execution_count": 4,
   "metadata": {
    "id": "LfMnFPf02GKG"
   },
   "outputs": [
    {
     "name": "stdout",
     "output_type": "stream",
     "text": [
      "23\n",
      "20\n",
      "0\n",
      "20\n",
      "0.8695652173913043\n"
     ]
    }
   ],
   "source": [
    "friends = int(input())\n",
    "apples = int(input())\n",
    "print(apples // friends)\n",
    "print(apples % friends)\n",
    "print(apples / friends)"
   ]
  },
  {
   "cell_type": "markdown",
   "metadata": {
    "id": "TuFj-Bmu2rdx"
   },
   "source": [
    "#### Длина гипотенузы по заданным катетам треугольника. (Можно почитать [здесь](https://ru.wikipedia.org/wiki/%D0%93%D0%B8%D0%BF%D0%BE%D1%82%D0%B5%D0%BD%D1%83%D0%B7%D0%B0)).\n",
    "\n",
    "На вход подаются два числа - катеты треугольника `a`, `b`. Вычислите гипотенузу треугольника с заданными катетами с помощью теоремы Пифагора.\n",
    "\n",
    "$c^2 = a^2 + b^2$\n",
    "\n",
    "$c = \\sqrt{a^2 + b^2}$\n",
    "\n",
    "\n",
    "`входные данные:`\n",
    "\n",
    "`3` \n",
    "\n",
    "`4`\n",
    "\n",
    "`выходные данные:`\n",
    "\n",
    "`5.0`"
   ]
  },
  {
   "cell_type": "code",
   "execution_count": 6,
   "metadata": {
    "id": "waM8XuIDhgg8"
   },
   "outputs": [
    {
     "name": "stdout",
     "output_type": "stream",
     "text": [
      "Enter lenght of triangle leg: 12\n",
      "Enter lenght of triangle leg: 31\n",
      "552.5\n"
     ]
    }
   ],
   "source": [
    "a = int(input('Enter lenght of triangle leg: '))\n",
    "b = int(input('Enter lenght of triangle 2nd leg: '))\n",
    "c = ((a ** 2) + (b ** 2)) * 0.5\n",
    "print(c)"
   ]
  },
  {
   "cell_type": "markdown",
   "metadata": {
    "id": "fNTyNTjEhnHp"
   },
   "source": [
    "#### Напишите программу, которая приветствует пользователя, выводя слово Hello, введенное имя и знаки препинания по образцу (см. пример входных и выходных данных). Программа должна считывать в строковую переменную значение и писать соответствующее приветствие.\n",
    "Обратите внимание, что после запятой должен обязательно стоять пробел, а перед восклицательным знаком пробела нет.\n",
    "\n",
    "**Примеры**\n",
    "\n",
    "`входные данные`\n",
    "\n",
    "`Harry`\n",
    "\n",
    "`выходные данные`\n",
    "\n",
    "`Hello, Harry!`"
   ]
  },
  {
   "cell_type": "code",
   "execution_count": 7,
   "metadata": {
    "id": "ZG1R72R6h2GT"
   },
   "outputs": [
    {
     "name": "stdout",
     "output_type": "stream",
     "text": [
      "Asel\n",
      "Hello, Asel!\n"
     ]
    }
   ],
   "source": [
    "name = input()\n",
    "print(f'Hello, {name}!')\n"
   ]
  },
  {
   "cell_type": "markdown",
   "metadata": {
    "id": "eqA4pjoViONm"
   },
   "source": [
    "#### Напишите программу, которая считывает целое число и выводит текст, аналогичный приведенному в примере\n",
    "\n",
    "`Входные данные`\n",
    "\n",
    "Вводится целое число.\n",
    "\n",
    "`Выходные данные`\n",
    "\n",
    "Выведите две строки, согласно образцу.\n",
    "\n",
    "**Примеры**\n",
    "\n",
    "`входные данные`\n",
    "\n",
    "`179`\n",
    "\n",
    "`выходные данные`\n",
    "\n",
    "`Последующее число после 179 это 180.`\n",
    "`Предыдущее число для числа 179 это 178.`"
   ]
  },
  {
   "cell_type": "code",
   "execution_count": 8,
   "metadata": {
    "id": "gJ4CRW0kip2y"
   },
   "outputs": [
    {
     "name": "stdout",
     "output_type": "stream",
     "text": [
      "Enter any number: 234\n",
      "Последующее число после 234 это 235. Предыдущее число для числа 234 это 233.\n"
     ]
    }
   ],
   "source": [
    "user = int(input('Enter any number: '))\n",
    "print(f'Последующее число после {user} это {user + 1}. Предыдущее число для числа {user} это {user - 1}.')\n"
   ]
  },
  {
   "cell_type": "markdown",
   "metadata": {
    "id": "DEfhE63ii22F"
   },
   "source": [
    "#### Дано трехзначное число. Найдите сумму его цифр.\n",
    "\n",
    "`Входные данные`\n",
    "\n",
    "Вводится целое положительное число.\n",
    "\n",
    "`Выходные данные`\n",
    "\n",
    "Выведите ответ на задачу.\n",
    "\n",
    "**Примеры**\n",
    "\n",
    "`входные данные`\n",
    "\n",
    "`179`\n",
    "\n",
    "`выходные данные`\n",
    "\n",
    "`17`\n",
    "\n",
    "`подсказка: 1+7+9 = 17`"
   ]
  },
  {
   "cell_type": "code",
   "execution_count": 10,
   "metadata": {
    "id": "5cOBcS0KjLC6"
   },
   "outputs": [
    {
     "name": "stdout",
     "output_type": "stream",
     "text": [
      "Enter any number: 1234\n",
      "4\n"
     ]
    }
   ],
   "source": [
    "num = input('Enter any number: ')\n",
    "summa = 0\n",
    "for i in num:\n",
    "    summa += 1\n",
    "print(summa)\n",
    "\n"
   ]
  }
 ],
 "metadata": {
  "colab": {
   "collapsed_sections": [
    "cm7uaD2g2KU7",
    "TuFj-Bmu2rdx"
   ],
   "name": "02_math_str_HW.ipynb",
   "provenance": []
  },
  "kernelspec": {
   "display_name": "Python 3 (ipykernel)",
   "language": "python",
   "name": "python3"
  },
  "language_info": {
   "codemirror_mode": {
    "name": "ipython",
    "version": 3
   },
   "file_extension": ".py",
   "mimetype": "text/x-python",
   "name": "python",
   "nbconvert_exporter": "python",
   "pygments_lexer": "ipython3",
   "version": "3.9.7"
  }
 },
 "nbformat": 4,
 "nbformat_minor": 1
}
