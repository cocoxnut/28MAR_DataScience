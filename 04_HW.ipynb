{
 "cells": [
  {
   "cell_type": "markdown",
   "metadata": {},
   "source": [
    "### 1. На вход подается число от 0 до 1000.\n",
    "\n",
    "Если число от 0 до 99, программа должна вернуть \"Ваше число меньше 100\".\n",
    "\n",
    "Если число от 100 до 499, программа должна вернуть \"Ваше число меньше 500, но больше 100\".\n",
    "\n",
    "Если число от 500 до 1000, программа должна вернуть \"Ваше число меньше 1000, но больше 500\"."
   ]
  },
  {
   "cell_type": "code",
   "execution_count": 20,
   "metadata": {},
   "outputs": [
    {
     "name": "stdout",
     "output_type": "stream",
     "text": [
      "Enter any number from 0 to 1000: 499\n",
      "Your number is less than 500 but more than 100\n"
     ]
    }
   ],
   "source": [
    "num = int(input('Enter any number from 0 to 1000: '))\n",
    "if num < 100:\n",
    "    print('Your number is less than 100')\n",
    "elif num < 500:\n",
    "    print('Your number is less than 500 but more than 100')\n",
    "else:\n",
    "    print('Your number is less than 1000 but more than 500')"
   ]
  },
  {
   "cell_type": "markdown",
   "metadata": {},
   "source": [
    "### 2. На вход подаются длина и ширина прямоугольника. Если они равны, выведите, что это квадрат. Иначе \"это прямоугольник\".\n",
    "\n",
    "**Пример**\n",
    "\n",
    "`input`\n",
    "\n",
    "`5`\n",
    "\n",
    "`3`\n",
    "\n",
    "`output`\n",
    "\n",
    "`\"Это прямоугольник\"`"
   ]
  },
  {
   "cell_type": "code",
   "execution_count": 21,
   "metadata": {},
   "outputs": [
    {
     "name": "stdout",
     "output_type": "stream",
     "text": [
      "Enter length of rectangular 1st side: 34\n",
      "Enter length of rectangular 2nd side: 25\n",
      "This is rectangular\n"
     ]
    }
   ],
   "source": [
    "side1 = int(input('Enter length of rectangular 1st side: '))\n",
    "side2 = int(input('Enter length of rectangular 2nd side: '))\n",
    "if side1 == side2:\n",
    "    print(\"This is square\")\n",
    "else:\n",
    "    print('This is rectangular')"
   ]
  },
  {
   "cell_type": "markdown",
   "metadata": {},
   "source": [
    "### 3. Программа для выставления оценок. На вход подается количество баллов от 0 до 100. Выставите оценку по указанной ниже системе.\n",
    "\n",
    "Имеется следующая система выставления оценок:\n",
    "\n",
    "1. ниже 25 - F\n",
    "2. от 25 до 45 - E\n",
    "3. от 45 до 50 - D\n",
    "4. от 50 до 60 - C\n",
    "5. от 60 до 80 - B\n",
    "6. Выше 80 - A"
   ]
  },
  {
   "cell_type": "code",
   "execution_count": 27,
   "metadata": {},
   "outputs": [
    {
     "name": "stdout",
     "output_type": "stream",
     "text": [
      "Enter your scores: 30\n",
      "E\n"
     ]
    }
   ],
   "source": [
    "grade = int(input(\"Enter your scores: \"))\n",
    "if grade < 25:\n",
    "    print('F')\n",
    "elif grade > 25 and grade < 45:\n",
    "    print('E')\n",
    "elif grade > 45 and grade < 50:\n",
    "    print('D')\n",
    "elif grade > 50 and grade < 60:\n",
    "    print('C')\n",
    "elif grade > 60 and grade < 80:\n",
    "    print('B')\n",
    "else:\n",
    "    print('A')\n",
    "    "
   ]
  },
  {
   "cell_type": "markdown",
   "metadata": {},
   "source": [
    "### 4. Собака или кошка?\n",
    "\n",
    "На вход подается слово \"dog\" или \"cat\".\n",
    "\n",
    "Если \"dog\", выведите \"bark\"\n",
    "\n",
    "Если \"cat\", выведите \"meow\""
   ]
  },
  {
   "cell_type": "code",
   "execution_count": 30,
   "metadata": {},
   "outputs": [
    {
     "name": "stdout",
     "output_type": "stream",
     "text": [
      "Enter any pet: crocodile\n",
      "No sound\n"
     ]
    }
   ],
   "source": [
    "animal = input(\"Enter any pet: \")\n",
    "if animal == \"dog\":\n",
    "    print(\"bark\")\n",
    "elif animal == \"cat\":\n",
    "    print(\"meow\")\n",
    "else:\n",
    "    print(\"No sound\")"
   ]
  },
  {
   "cell_type": "markdown",
   "metadata": {},
   "source": [
    "### 5. На вход подается положительное число, определите четное оно или нечетное.\n",
    "\n",
    "**Пример**\n",
    "\n",
    "`input`\n",
    "\n",
    "`5`\n",
    "\n",
    "`output`\n",
    "\n",
    "`\"Это число нечетное\"`"
   ]
  },
  {
   "cell_type": "code",
   "execution_count": 32,
   "metadata": {},
   "outputs": [
    {
     "name": "stdout",
     "output_type": "stream",
     "text": [
      "Enter any number: 24\n",
      "This number is even\n"
     ]
    }
   ],
   "source": [
    "n = int(input(\"Enter any number: \"))\n",
    "if n % 2 == 0:\n",
    "    print(\"This number is even\")\n",
    "else:\n",
    "    print(\"This number is odd\")"
   ]
  },
  {
   "cell_type": "markdown",
   "metadata": {},
   "source": [
    "### 6. Программа получает на вход последовательность целых неотрицательных чисел по одному. Последовательность завершается числом 0, при считывании которого программа должна закончить свою работу и вывести количество **нечетных** членов последовательности (не считая завершающего числа 0).\n",
    "\n",
    "**Пример**\n",
    "\n",
    "`input`\n",
    "\n",
    "`5`\n",
    "\n",
    "`2`\n",
    "\n",
    "`1`\n",
    "\n",
    "`0`\n",
    "\n",
    "`output`\n",
    "\n",
    "`2`"
   ]
  },
  {
   "cell_type": "code",
   "execution_count": 7,
   "metadata": {},
   "outputs": [
    {
     "name": "stdout",
     "output_type": "stream",
     "text": [
      "34\n",
      "22\n",
      "78\n",
      "12\n",
      "90\n",
      "12\n",
      "34\n",
      "0\n",
      "7\n"
     ]
    }
   ],
   "source": [
    "len = 0\n",
    "while int(input()) != 0:\n",
    "    len += 1\n",
    "print(len)"
   ]
  },
  {
   "cell_type": "markdown",
   "metadata": {},
   "source": [
    "### 7.  На вход подается число, поменяйте знак числа и верните.\n",
    "Если оно положительно верните со знаком минус, если отрицательно без знака минус.\n",
    "\n",
    "**Пример**\n",
    "\n",
    "`input`\n",
    "\n",
    "`5`\n",
    "\n",
    "`output`\n",
    "\n",
    "`-5`\n",
    "\n",
    "`input`\n",
    "\n",
    "`-78`\n",
    "\n",
    "`output`\n",
    "\n",
    "`78`"
   ]
  },
  {
   "cell_type": "code",
   "execution_count": 9,
   "metadata": {},
   "outputs": [
    {
     "name": "stdout",
     "output_type": "stream",
     "text": [
      "Enter any number: -23\n",
      "Your number is negative\n"
     ]
    }
   ],
   "source": [
    "x = int(input(\"Enter any number: \"))\n",
    "if x > 0:\n",
    "    print(f'{-x}')\n",
    "else:\n",
    "    print(\"Your number is negative\")"
   ]
  },
  {
   "cell_type": "markdown",
   "metadata": {},
   "source": [
    "### 8.  Программа получает на вход последовательность целых неотрицательных чисел по одному. Последовательность завершается числом 0, при считывании которого программа должна закончить свою работу и вывести максимальное и минимальное число в последовательности (не считая завершающего числа 0).\n",
    "\n",
    "**Пример**\n",
    "\n",
    "`input`\n",
    "\n",
    "`5`\n",
    "\n",
    "`2`\n",
    "\n",
    "`1`\n",
    "\n",
    "`3`\n",
    "\n",
    "`0`\n",
    "\n",
    "`output`\n",
    "\n",
    "`максимум: 5`\n",
    "\n",
    "`минимум: 1`"
   ]
  },
  {
   "cell_type": "code",
   "execution_count": 19,
   "metadata": {},
   "outputs": [
    {
     "name": "stdout",
     "output_type": "stream",
     "text": [
      "1\n",
      "4\n",
      "78\n",
      "9\n",
      "0\n",
      "4\n",
      "4\n",
      "4\n"
     ]
    }
   ],
   "source": [
    "len = 0\n",
    "while int(input()) != 0:\n",
    "    len += 1\n",
    "print(len)\n",
    "len = str(len)\n",
    "print(max(len))\n",
    "print(min(len))"
   ]
  },
  {
   "cell_type": "markdown",
   "metadata": {},
   "source": [
    "### 9. На вход подается 1 или 0. Выведите `True` если 1, иначе `False`.\n",
    "\n",
    "**Пример**\n",
    "\n",
    "`input`\n",
    "\n",
    "`0`\n",
    "\n",
    "`output`\n",
    "\n",
    "`False`"
   ]
  },
  {
   "cell_type": "code",
   "execution_count": 23,
   "metadata": {},
   "outputs": [
    {
     "name": "stdout",
     "output_type": "stream",
     "text": [
      "Enter any number: 1\n",
      "True\n"
     ]
    }
   ],
   "source": [
    "n = int(input(\"Enter any number: \"))\n",
    "if n == True:\n",
    "    print('True')\n",
    "else:\n",
    "    print('False')"
   ]
  },
  {
   "cell_type": "markdown",
   "metadata": {},
   "source": [
    "### 10. На вход подается целое положительное число. Напечатайте столько же раз слово \"hi\"\n",
    "\n",
    "**Пример**\n",
    "\n",
    "`input`\n",
    "\n",
    "`5`\n",
    "\n",
    "`output`\n",
    "\n",
    "`hi hi hi hi hi`"
   ]
  },
  {
   "cell_type": "code",
   "execution_count": 28,
   "metadata": {},
   "outputs": [
    {
     "name": "stdout",
     "output_type": "stream",
     "text": [
      "Enter any number: 12\n",
      "['hi', 'hi', 'hi', 'hi', 'hi', 'hi', 'hi', 'hi', 'hi', 'hi', 'hi', 'hi']\n"
     ]
    }
   ],
   "source": [
    "user = int(input(\"Enter any number: \"))\n",
    "word = 'hi'\n",
    "print(word.split(' ')* user)"
   ]
  },
  {
   "cell_type": "markdown",
   "metadata": {},
   "source": [
    "###  11. Программа получает на вход последовательность целых неотрицательных чисел по одному. Последовательность завершается числом 0, при считывании которого программа должна закончить свою работу и вывести числа в ряд без пробела (не считая завершающего числа 0).\n",
    "\n",
    "**Пример**\n",
    "\n",
    "`input`\n",
    "\n",
    "`5`\n",
    "\n",
    "`2`\n",
    "\n",
    "`1`\n",
    "\n",
    "`3`\n",
    "\n",
    "`0`\n",
    "\n",
    "`output`\n",
    "\n",
    "`5213`\n"
   ]
  },
  {
   "cell_type": "code",
   "execution_count": 44,
   "metadata": {},
   "outputs": [
    {
     "name": "stdout",
     "output_type": "stream",
     "text": [
      "1\n",
      "3\n"
     ]
    },
    {
     "ename": "TypeError",
     "evalue": "can only concatenate str (not \"int\") to str",
     "output_type": "error",
     "traceback": [
      "\u001b[0;31m---------------------------------------------------------------------------\u001b[0m",
      "\u001b[0;31mTypeError\u001b[0m                                 Traceback (most recent call last)",
      "\u001b[0;32m/var/folders/55/f_ygz2_d12j5z9h53dnfz2v40000gn/T/ipykernel_20860/3561881920.py\u001b[0m in \u001b[0;36m<module>\u001b[0;34m\u001b[0m\n\u001b[1;32m      1\u001b[0m \u001b[0mlen\u001b[0m \u001b[0;34m=\u001b[0m \u001b[0;36m0\u001b[0m\u001b[0;34m\u001b[0m\u001b[0;34m\u001b[0m\u001b[0m\n\u001b[1;32m      2\u001b[0m \u001b[0;32mwhile\u001b[0m \u001b[0mint\u001b[0m\u001b[0;34m(\u001b[0m\u001b[0minput\u001b[0m\u001b[0;34m(\u001b[0m\u001b[0;34m)\u001b[0m\u001b[0;34m)\u001b[0m \u001b[0;34m!=\u001b[0m \u001b[0;36m0\u001b[0m\u001b[0;34m:\u001b[0m\u001b[0;34m\u001b[0m\u001b[0;34m\u001b[0m\u001b[0m\n\u001b[0;32m----> 3\u001b[0;31m     \u001b[0mlen\u001b[0m \u001b[0;34m+=\u001b[0m \u001b[0;36m1\u001b[0m\u001b[0;34m\u001b[0m\u001b[0;34m\u001b[0m\u001b[0m\n\u001b[0m\u001b[1;32m      4\u001b[0m     \u001b[0mlen\u001b[0m \u001b[0;34m=\u001b[0m \u001b[0mstr\u001b[0m\u001b[0;34m(\u001b[0m\u001b[0mlen\u001b[0m\u001b[0;34m)\u001b[0m\u001b[0;34m\u001b[0m\u001b[0;34m\u001b[0m\u001b[0m\n\u001b[1;32m      5\u001b[0m \u001b[0mprint\u001b[0m\u001b[0;34m(\u001b[0m\u001b[0;34m\"\"\u001b[0m\u001b[0;34m.\u001b[0m\u001b[0mjoin\u001b[0m\u001b[0;34m(\u001b[0m\u001b[0mlen\u001b[0m\u001b[0;34m)\u001b[0m\u001b[0;34m)\u001b[0m\u001b[0;34m\u001b[0m\u001b[0;34m\u001b[0m\u001b[0m\n",
      "\u001b[0;31mTypeError\u001b[0m: can only concatenate str (not \"int\") to str"
     ]
    }
   ],
   "source": [
    "len = 0\n",
    "while int(input()) != 0:\n",
    "    len += 1\n"
   ]
  },
  {
   "cell_type": "markdown",
   "metadata": {},
   "source": [
    "###### 12. Банковские вклады\n",
    "\n",
    "Вклад в банке составляет `x` рублей. Ежегодно он увеличивается на 10 процентов. Определите, через сколько лет вклад составит не менее `y` рублей.\n",
    "\n",
    "На вход подается:\n",
    "\n",
    "`x` - сколько мы положили в начале\n",
    "\n",
    "`y` - минимум сколько мы хотим получить."
   ]
  },
  {
   "cell_type": "code",
   "execution_count": 45,
   "metadata": {},
   "outputs": [
    {
     "name": "stdout",
     "output_type": "stream",
     "text": [
      "3650.0\n"
     ]
    }
   ],
   "source": [
    "x = int(input(\"Enter of deposit amount: \"))\n",
    "y = int(input(\"Enter of desired interest amount: \"))\n",
    "z = 0.1\n",
    "deposit = (x * 0.1 * 365) / 100\n",
    "print(deposit)"
   ]
  },
  {
   "cell_type": "markdown",
   "metadata": {},
   "source": [
    "### 13. Среднее значение последовательности.\n",
    "\n",
    "Определите среднее значение всех элементов последовательности, завершающейся числом 0.\n",
    "\n",
    "`Входные данные`\n",
    "\n",
    "Вводится последовательность целых чисел, оканчивающаяся числом 0 (само число 0 в последовательность не входит, а служит как признак ее окончания.\n",
    "\n",
    "`Выходные данные`\n",
    "\n",
    "Выведите ответ на задачу.\n",
    "\n",
    "`Примеры`\n",
    "\n",
    "`входные данные`\n",
    "\n",
    "`1`\n",
    "\n",
    "`7`\n",
    "\n",
    "`9`\n",
    "\n",
    "`0`\n",
    "\n",
    "`выходные данные`\n",
    "\n",
    "`5.66666666667`\n",
    "\n",
    "\n",
    "`hint: (1+7+9) / 3 = 5.6667`"
   ]
  },
  {
   "cell_type": "code",
   "execution_count": null,
   "metadata": {},
   "outputs": [],
   "source": []
  },
  {
   "cell_type": "markdown",
   "metadata": {},
   "source": [
    "### 14. Список квадратов\n",
    "\n",
    "По данному целому числу N распечатайте все квадраты натуральных чисел, не превосходящие N, в порядке возрастания.\n",
    "\n",
    "`Входные данные`\n",
    "\n",
    "`50`\n",
    "\n",
    "`Выходные данные`\n",
    "\n",
    "`1 4 9 16 25 36 49`"
   ]
  },
  {
   "cell_type": "code",
   "execution_count": null,
   "metadata": {},
   "outputs": [],
   "source": []
  },
  {
   "cell_type": "markdown",
   "metadata": {},
   "source": [
    "### 15. Игра, угадай число (улучшение).\n",
    "\n",
    "Напишите ту же игру угадай число, но теперь угадываемое число будет случайным от 0 до 100 (используйте код ниже для генерации случайного числа)."
   ]
  },
  {
   "cell_type": "code",
   "execution_count": null,
   "metadata": {},
   "outputs": [],
   "source": [
    "import random\n",
    "\n",
    "myNumber = random.randint(0, 100) # это генерирует случайное число для игры\n"
   ]
  }
 ],
 "metadata": {
  "kernelspec": {
   "display_name": "Python 3 (ipykernel)",
   "language": "python",
   "name": "python3"
  },
  "language_info": {
   "codemirror_mode": {
    "name": "ipython",
    "version": 3
   },
   "file_extension": ".py",
   "mimetype": "text/x-python",
   "name": "python",
   "nbconvert_exporter": "python",
   "pygments_lexer": "ipython3",
   "version": "3.9.7"
  }
 },
 "nbformat": 4,
 "nbformat_minor": 4
}
